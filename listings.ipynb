{
 "cells": [
  {
   "cell_type": "code",
   "execution_count": null,
   "id": "8d236c65-46b8-41cd-ac5f-234e8fe5b9bc",
   "metadata": {},
   "outputs": [],
   "source": [
    "uniq_wallets = {'JCgAYykCQeDmwVTqtugVYgBg57BEsdqACYka4cN3AMqm',\n",
    "                '68EoULniYtFUKufYRKbik8FgJk15DKXZVzux6TFj6EF4',\n",
    "                'CH9i39Jga5ZTsKKadFd4N9V3GUUXjn3gPxJhePTeoJ22'}\n",
    "\n",
    "import requests\n",
    "\n",
    "addr_to_listings = {}\n",
    "\n",
    "for addr in uniq_wallets:\n",
    "    resp = requests.get(f'https://qzlsklfacc.medianetwork.cloud/infos_wallet_for_sale?address={addr}')\n",
    "    print(resp)\n",
    "    if resp.status_code != 200:\n",
    "        continue\n",
    "    listings = resp.json()['NFT_forSale']\n",
    "    if listings:\n",
    "        addr_to_listings[addr] = listings\n",
    "        print(addr, listings)\n",
    "    print(addr, 'empty')"
   ]
  }
 ],
 "metadata": {
  "kernelspec": {
   "display_name": "Python 3 (ipykernel)",
   "language": "python",
   "name": "python3"
  },
  "language_info": {
   "codemirror_mode": {
    "name": "ipython",
    "version": 3
   },
   "file_extension": ".py",
   "mimetype": "text/x-python",
   "name": "python",
   "nbconvert_exporter": "python",
   "pygments_lexer": "ipython3",
   "version": "3.9.7"
  }
 },
 "nbformat": 4,
 "nbformat_minor": 5
}
